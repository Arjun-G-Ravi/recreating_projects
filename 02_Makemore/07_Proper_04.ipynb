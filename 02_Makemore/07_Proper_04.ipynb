{
 "cells": [
  {
   "cell_type": "markdown",
   "metadata": {},
   "source": [
    "#### Let's pytorch-ify the code in 04"
   ]
  },
  {
   "cell_type": "code",
   "execution_count": 1,
   "metadata": {},
   "outputs": [],
   "source": [
    "import torch\n",
    "import matplotlib.pyplot as plt\n",
    "import torch.nn.functional as F\n",
    "import torch.nn as nn"
   ]
  },
  {
   "cell_type": "code",
   "execution_count": 2,
   "metadata": {},
   "outputs": [
    {
     "name": "stdout",
     "output_type": "stream",
     "text": [
      "32033\n",
      "['emma', 'olivia', 'ava', 'isabella', 'sophia', 'charlotte', 'mia', 'amelia', 'harper', 'evelyn']\n"
     ]
    }
   ],
   "source": [
    "with open('names.txt') as f:\n",
    "    data = f.read().split('\\n')\n",
    "print(len(data))\n",
    "print(data[:10])"
   ]
  },
  {
   "cell_type": "code",
   "execution_count": 3,
   "metadata": {},
   "outputs": [
    {
     "name": "stdout",
     "output_type": "stream",
     "text": [
      "{'.': 0, 'a': 1, 'b': 2, 'c': 3, 'd': 4, 'e': 5, 'f': 6, 'g': 7, 'h': 8, 'i': 9, 'j': 10, 'k': 11, 'l': 12, 'm': 13, 'n': 14, 'o': 15, 'p': 16, 'q': 17, 'r': 18, 's': 19, 't': 20, 'u': 21, 'v': 22, 'w': 23, 'x': 24, 'y': 25, 'z': 26}\n",
      "{0: '.', 1: 'a', 2: 'b', 3: 'c', 4: 'd', 5: 'e', 6: 'f', 7: 'g', 8: 'h', 9: 'i', 10: 'j', 11: 'k', 12: 'l', 13: 'm', 14: 'n', 15: 'o', 16: 'p', 17: 'q', 18: 'r', 19: 's', 20: 't', 21: 'u', 22: 'v', 23: 'w', 24: 'x', 25: 'y', 26: 'z'}\n"
     ]
    }
   ],
   "source": [
    "characters = list(set([i for i in ''.join(data)]))\n",
    "characters.insert(1, '.')\n",
    "hmap = {}\n",
    "for n in range(0,27):\n",
    "    hmap[sorted(characters)[n]] = n\n",
    "rev_hmap = {value:key for key,value in hmap.items()}\n",
    "print(hmap)\n",
    "print(rev_hmap)"
   ]
  },
  {
   "cell_type": "code",
   "execution_count": 4,
   "metadata": {},
   "outputs": [],
   "source": [
    "n = 4\n",
    "X, y = [], []\n",
    "\n",
    "for word in data:\n",
    "    w = '.' * n + word + '.' * n\n",
    "    # print(w)\n",
    "    for i in range(len(word)+n-2):\n",
    "        temp = []\n",
    "        for j in w[i:i+n]:\n",
    "            temp.append(hmap[j])\n",
    "        X.append(temp)\n",
    "        y.append(hmap[w[i+n]])\n",
    "        if w[i+n] == '.': break\n",
    "\n",
    "# for i,j in zip(X,y):\n",
    "#     print(i,j)\n",
    "X = torch.tensor(X)   \n",
    "y = torch.tensor(y)   "
   ]
  },
  {
   "cell_type": "code",
   "execution_count": 5,
   "metadata": {},
   "outputs": [
    {
     "data": {
      "text/plain": [
       "(torch.Size([228146, 4]), torch.Size([228146]))"
      ]
     },
     "execution_count": 5,
     "metadata": {},
     "output_type": "execute_result"
    }
   ],
   "source": [
    "X.shape, y.shape"
   ]
  },
  {
   "cell_type": "code",
   "execution_count": 6,
   "metadata": {},
   "outputs": [
    {
     "data": {
      "text/plain": [
       "torch.Size([228146, 4, 2])"
      ]
     },
     "execution_count": 6,
     "metadata": {},
     "output_type": "execute_result"
    }
   ],
   "source": [
    "C = torch.randn((27,2)) # We embed 27 features(letters) into a 2 dimensional space. Will train over this later\n",
    "emb = C[X]\n",
    "emb.shape"
   ]
  },
  {
   "cell_type": "code",
   "execution_count": 7,
   "metadata": {},
   "outputs": [],
   "source": [
    "h1 = 300\n",
    "num_epoch = 10000\n",
    "lr = 0.01"
   ]
  },
  {
   "cell_type": "code",
   "execution_count": 8,
   "metadata": {},
   "outputs": [],
   "source": [
    "model = nn.Sequential(\n",
    "    nn.Embedding(27, 2),\n",
    "     nn.Flatten(),\n",
    "     nn.Linear(C[X].shape[1]*C[X].shape[2],h1, bias=False), \n",
    "     nn.BatchNorm1d(h1), \n",
    "     nn.Tanh(),\n",
    "     nn.Linear(h1,27),\n",
    "    \n",
    ")"
   ]
  },
  {
   "cell_type": "code",
   "execution_count": 9,
   "metadata": {},
   "outputs": [],
   "source": [
    "# Apply Kaiming initialization (He initialization) to layers\n",
    "for layer in model:\n",
    "    if isinstance(layer, nn.Linear):\n",
    "        nn.init.kaiming_normal_(layer.weight, nonlinearity='tanh')"
   ]
  },
  {
   "cell_type": "code",
   "execution_count": 10,
   "metadata": {},
   "outputs": [],
   "source": [
    "optimizer = torch.optim.SGD(model.parameters(), lr=lr)"
   ]
  },
  {
   "cell_type": "code",
   "execution_count": 11,
   "metadata": {},
   "outputs": [
    {
     "name": "stdout",
     "output_type": "stream",
     "text": [
      "Epoch 0: 3.7702\n",
      "Epoch 1000: 2.6773\n",
      "Epoch 2000: 2.6373\n",
      "Epoch 3000: 2.4755\n",
      "Epoch 4000: 2.5256\n",
      "Epoch 5000: 2.4981\n",
      "Epoch 6000: 2.4844\n",
      "Epoch 7000: 2.6522\n",
      "Epoch 8000: 2.5469\n",
      "Epoch 9000: 2.4863\n"
     ]
    }
   ],
   "source": [
    "for i in range(num_epoch):\n",
    "    \n",
    "    batch = torch.randint(1,len(X),(64,))\n",
    "    x = X[batch]\n",
    "    y_ = y[batch]\n",
    "\n",
    "    logits = model(x)\n",
    "\n",
    "    loss = F.cross_entropy(logits, y_)\n",
    "    optimizer.zero_grad()\n",
    "    \n",
    "    loss.backward()\n",
    "    optimizer.step()\n",
    "\n",
    "    if  i == 2000 or i == 5000:\n",
    "        lr = lr/10\n",
    "     \n",
    "\n",
    "    if not i%1000: print(f'Epoch {i}: {loss.item():.4f}')"
   ]
  },
  {
   "cell_type": "code",
   "execution_count": null,
   "metadata": {},
   "outputs": [],
   "source": []
  },
  {
   "cell_type": "code",
   "execution_count": null,
   "metadata": {},
   "outputs": [],
   "source": []
  }
 ],
 "metadata": {
  "kernelspec": {
   "display_name": "AI_ENV",
   "language": "python",
   "name": "python3"
  },
  "language_info": {
   "codemirror_mode": {
    "name": "ipython",
    "version": 3
   },
   "file_extension": ".py",
   "mimetype": "text/x-python",
   "name": "python",
   "nbconvert_exporter": "python",
   "pygments_lexer": "ipython3",
   "version": "3.10.12"
  }
 },
 "nbformat": 4,
 "nbformat_minor": 2
}
