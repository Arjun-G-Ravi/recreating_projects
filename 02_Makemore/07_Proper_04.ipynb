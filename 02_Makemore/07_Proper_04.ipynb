{
 "cells": [
  {
   "cell_type": "markdown",
   "metadata": {},
   "source": [
    "#### Let's pytorch-ify the code in 04"
   ]
  },
  {
   "cell_type": "code",
   "execution_count": 1,
   "metadata": {},
   "outputs": [],
   "source": [
    "import torch\n",
    "import matplotlib.pyplot as plt\n",
    "import torch.nn.functional as F\n",
    "import torch.nn as nn"
   ]
  },
  {
   "cell_type": "code",
   "execution_count": 2,
   "metadata": {},
   "outputs": [
    {
     "name": "stdout",
     "output_type": "stream",
     "text": [
      "32033\n",
      "['emma', 'olivia', 'ava', 'isabella', 'sophia', 'charlotte', 'mia', 'amelia', 'harper', 'evelyn']\n"
     ]
    }
   ],
   "source": [
    "with open('names.txt') as f:\n",
    "    data = f.read().split('\\n')\n",
    "print(len(data))\n",
    "print(data[:10])"
   ]
  },
  {
   "cell_type": "code",
   "execution_count": 3,
   "metadata": {},
   "outputs": [
    {
     "name": "stdout",
     "output_type": "stream",
     "text": [
      "{'.': 0, 'a': 1, 'b': 2, 'c': 3, 'd': 4, 'e': 5, 'f': 6, 'g': 7, 'h': 8, 'i': 9, 'j': 10, 'k': 11, 'l': 12, 'm': 13, 'n': 14, 'o': 15, 'p': 16, 'q': 17, 'r': 18, 's': 19, 't': 20, 'u': 21, 'v': 22, 'w': 23, 'x': 24, 'y': 25, 'z': 26}\n",
      "{0: '.', 1: 'a', 2: 'b', 3: 'c', 4: 'd', 5: 'e', 6: 'f', 7: 'g', 8: 'h', 9: 'i', 10: 'j', 11: 'k', 12: 'l', 13: 'm', 14: 'n', 15: 'o', 16: 'p', 17: 'q', 18: 'r', 19: 's', 20: 't', 21: 'u', 22: 'v', 23: 'w', 24: 'x', 25: 'y', 26: 'z'}\n"
     ]
    }
   ],
   "source": [
    "characters = list(set([i for i in ''.join(data)]))\n",
    "characters.insert(1, '.')\n",
    "hmap = {}\n",
    "for n in range(0,27):\n",
    "    hmap[sorted(characters)[n]] = n\n",
    "rev_hmap = {value:key for key,value in hmap.items()}\n",
    "print(hmap)\n",
    "print(rev_hmap)"
   ]
  },
  {
   "cell_type": "code",
   "execution_count": 4,
   "metadata": {},
   "outputs": [],
   "source": [
    "n = 4\n",
    "X, y = [], []\n",
    "\n",
    "for word in data:\n",
    "    w = '.' * n + word + '.' * n\n",
    "    # print(w)\n",
    "    for i in range(len(word)+n-2):\n",
    "        temp = []\n",
    "        for j in w[i:i+n]:\n",
    "            temp.append(hmap[j])\n",
    "        X.append(temp)\n",
    "        y.append(hmap[w[i+n]])\n",
    "        if w[i+n] == '.': break\n",
    "\n",
    "# for i,j in zip(X,y):\n",
    "#     print(i,j)\n",
    "X = torch.tensor(X)   \n",
    "y = torch.tensor(y)   "
   ]
  },
  {
   "cell_type": "code",
   "execution_count": null,
   "metadata": {},
   "outputs": [
    {
     "data": {
      "text/plain": [
       "(torch.Size([228146, 4]), torch.Size([228146]))"
      ]
     },
     "execution_count": 5,
     "metadata": {},
     "output_type": "execute_result"
    }
   ],
   "source": [
    "X.shape, y.shape"
   ]
  },
  {
   "cell_type": "code",
   "execution_count": 7,
   "metadata": {},
   "outputs": [],
   "source": [
    "h1 = 300\n",
    "num_epoch = 10000\n",
    "lr = 0.01"
   ]
  },
  {
   "cell_type": "code",
   "execution_count": 8,
   "metadata": {},
   "outputs": [
    {
     "ename": "NameError",
     "evalue": "name 'C' is not defined",
     "output_type": "error",
     "traceback": [
      "\u001b[0;31m---------------------------------------------------------------------------\u001b[0m",
      "\u001b[0;31mNameError\u001b[0m                                 Traceback (most recent call last)",
      "Cell \u001b[0;32mIn[7], line 4\u001b[0m\n\u001b[1;32m      1\u001b[0m model \u001b[38;5;241m=\u001b[39m nn\u001b[38;5;241m.\u001b[39mSequential(\n\u001b[1;32m      2\u001b[0m     nn\u001b[38;5;241m.\u001b[39mEmbedding(\u001b[38;5;241m27\u001b[39m, \u001b[38;5;241m2\u001b[39m),\n\u001b[1;32m      3\u001b[0m      nn\u001b[38;5;241m.\u001b[39mFlatten(),\n\u001b[0;32m----> 4\u001b[0m      nn\u001b[38;5;241m.\u001b[39mLinear(\u001b[43mC\u001b[49m[X]\u001b[38;5;241m.\u001b[39mshape[\u001b[38;5;241m1\u001b[39m]\u001b[38;5;241m*\u001b[39mC[X]\u001b[38;5;241m.\u001b[39mshape[\u001b[38;5;241m2\u001b[39m],h1, bias\u001b[38;5;241m=\u001b[39m\u001b[38;5;28;01mFalse\u001b[39;00m), \n\u001b[1;32m      5\u001b[0m      nn\u001b[38;5;241m.\u001b[39mBatchNorm1d(h1), \n\u001b[1;32m      6\u001b[0m      nn\u001b[38;5;241m.\u001b[39mTanh(),\n\u001b[1;32m      7\u001b[0m      nn\u001b[38;5;241m.\u001b[39mLinear(h1,\u001b[38;5;241m27\u001b[39m),\n\u001b[1;32m      8\u001b[0m     \n\u001b[1;32m      9\u001b[0m )\n",
      "\u001b[0;31mNameError\u001b[0m: name 'C' is not defined"
     ]
    }
   ],
   "source": [
    "model = nn.Sequential(\n",
    "    nn.Embedding(27, 2),\n",
    "    nn.Flatten(),\n",
    "    nn.Linear(C[X].shape[1]*C[X].shape[2],h1, bias=False), \n",
    "    nn.BatchNorm1d(h1), \n",
    "    nn.Tanh(),\n",
    "    nn.Linear(h1,27),\n",
    "    \n",
    ")"
   ]
  },
  {
   "cell_type": "code",
   "execution_count": 9,
   "metadata": {},
   "outputs": [],
   "source": [
    "# Apply Kaiming initialization (He initialization) to layers\n",
    "for layer in model:\n",
    "    if isinstance(layer, nn.Linear):\n",
    "        nn.init.kaiming_normal_(layer.weight, nonlinearity='tanh')"
   ]
  },
  {
   "cell_type": "code",
   "execution_count": null,
   "metadata": {},
   "outputs": [],
   "source": [
    "for i in range(num_epoch):\n",
    "    \n",
    "    batch = torch.randint(1,len(X),(64,))\n",
    "    x = X[batch]\n",
    "    y_ = y[batch]\n",
    "\n",
    "    logits = model(x)\n",
    "\n",
    "    loss = F.cross_entropy(logits, y_)\n",
    "    for p in model.parameters(): # This is what is being done using optimiser.zero_grad()\n",
    "        p.grad = None\n",
    "    \n",
    "    loss.backward()\n",
    "\n",
    "    for p in model.parameters(): # This is what is being done using optimiser.step()\n",
    "        p.data -= lr * p.grad # SGD\n",
    "\n",
    "    if  i == 2000 or i == 5000:\n",
    "        lr = lr/10\n",
    "     \n",
    "\n",
    "    if not i%1000: print(f'Epoch {i}: {loss.item():.4f}')"
   ]
  },
  {
   "cell_type": "code",
   "execution_count": null,
   "metadata": {},
   "outputs": [],
   "source": []
  },
  {
   "cell_type": "code",
   "execution_count": null,
   "metadata": {},
   "outputs": [],
   "source": []
  }
 ],
 "metadata": {
  "kernelspec": {
   "display_name": "AI_ENV",
   "language": "python",
   "name": "python3"
  },
  "language_info": {
   "codemirror_mode": {
    "name": "ipython",
    "version": 3
   },
   "file_extension": ".py",
   "mimetype": "text/x-python",
   "name": "python",
   "nbconvert_exporter": "python",
   "pygments_lexer": "ipython3",
   "version": "3.10.12"
  }
 },
 "nbformat": 4,
 "nbformat_minor": 2
}
