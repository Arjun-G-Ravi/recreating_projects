{
 "cells": [
  {
   "cell_type": "markdown",
   "metadata": {},
   "source": [
    "# PLAN: Make a n-gram model for making more names\n",
    "\n",
    "- Read data from dataset and convert them to dataset X and y\n",
    "- Create embedding\n",
    "- Build the next two layers of the NN\n",
    "- Construct train loop  \n",
    "- Finding better hyperparameters\n",
    "- Inference"
   ]
  },
  {
   "cell_type": "code",
   "execution_count": 2,
   "metadata": {},
   "outputs": [],
   "source": [
    "import torch\n",
    "import matplotlib.pyplot as plt\n",
    "from torch.nn.functional import one_hot"
   ]
  },
  {
   "cell_type": "markdown",
   "metadata": {},
   "source": [
    "## Create Dataset"
   ]
  },
  {
   "cell_type": "code",
   "execution_count": 6,
   "metadata": {},
   "outputs": [
    {
     "name": "stdout",
     "output_type": "stream",
     "text": [
      "32033\n",
      "['emma', 'olivia', 'ava', 'isabella', 'sophia', 'charlotte', 'mia', 'amelia', 'harper', 'evelyn']\n"
     ]
    }
   ],
   "source": [
    "with open('names.txt') as f:\n",
    "    data = f.read().split('\\n')\n",
    "print(len(data))\n",
    "print(data[:10])"
   ]
  },
  {
   "cell_type": "code",
   "execution_count": 4,
   "metadata": {},
   "outputs": [
    {
     "name": "stdout",
     "output_type": "stream",
     "text": [
      "{'.': 0, 'a': 1, 'b': 2, 'c': 3, 'd': 4, 'e': 5, 'f': 6, 'g': 7, 'h': 8, 'i': 9, 'j': 10, 'k': 11, 'l': 12, 'm': 13, 'n': 14, 'o': 15, 'p': 16, 'q': 17, 'r': 18, 's': 19, 't': 20, 'u': 21, 'v': 22, 'w': 23, 'x': 24, 'y': 25, 'z': 26}\n",
      "{0: '.', 1: 'a', 2: 'b', 3: 'c', 4: 'd', 5: 'e', 6: 'f', 7: 'g', 8: 'h', 9: 'i', 10: 'j', 11: 'k', 12: 'l', 13: 'm', 14: 'n', 15: 'o', 16: 'p', 17: 'q', 18: 'r', 19: 's', 20: 't', 21: 'u', 22: 'v', 23: 'w', 24: 'x', 25: 'y', 26: 'z'}\n"
     ]
    }
   ],
   "source": [
    "characters = list(set([i for i in ''.join(data)]))\n",
    "characters.insert(1, '.')\n",
    "hmap = {}\n",
    "for n in range(0,27):\n",
    "    hmap[sorted(characters)[n]] = n\n",
    "rev_hmap = {value:key for key,value in hmap.items()}\n",
    "print(hmap)\n",
    "print(rev_hmap)"
   ]
  },
  {
   "cell_type": "code",
   "execution_count": 54,
   "metadata": {},
   "outputs": [
    {
     "name": "stdout",
     "output_type": "stream",
     "text": [
      "... e\n",
      "..e m\n",
      ".em m\n",
      "emm a\n",
      "mma .\n",
      "... o\n",
      "..o l\n",
      ".ol i\n",
      "oli v\n",
      "liv i\n",
      "ivi a\n",
      "via .\n",
      "... a\n",
      "..a v\n",
      ".av a\n",
      "ava .\n"
     ]
    }
   ],
   "source": [
    "n = 3\n",
    "X, y = [], []\n",
    "\n",
    "for word in data[:3]:\n",
    "    w = '.'*n+word+'.'*n\n",
    "    # print(w)\n",
    "    for i in range(len(word)+n-2):\n",
    "        # print(w[i:i+n])\n",
    "        X.append(w[i:i+n])\n",
    "        y.append(w[i+n])\n",
    "        if w[i+n] == '.': break\n",
    "\n",
    "for i,j in zip(X,y):\n",
    "    print(i,j)\n",
    "    \n",
    "\n",
    "    "
   ]
  },
  {
   "cell_type": "code",
   "execution_count": null,
   "metadata": {},
   "outputs": [],
   "source": []
  },
  {
   "cell_type": "code",
   "execution_count": null,
   "metadata": {},
   "outputs": [],
   "source": []
  },
  {
   "cell_type": "code",
   "execution_count": null,
   "metadata": {},
   "outputs": [],
   "source": []
  },
  {
   "cell_type": "code",
   "execution_count": null,
   "metadata": {},
   "outputs": [],
   "source": []
  }
 ],
 "metadata": {
  "kernelspec": {
   "display_name": "AI_ENV",
   "language": "python",
   "name": "python3"
  },
  "language_info": {
   "codemirror_mode": {
    "name": "ipython",
    "version": 3
   },
   "file_extension": ".py",
   "mimetype": "text/x-python",
   "name": "python",
   "nbconvert_exporter": "python",
   "pygments_lexer": "ipython3",
   "version": "3.10.12"
  }
 },
 "nbformat": 4,
 "nbformat_minor": 2
}
