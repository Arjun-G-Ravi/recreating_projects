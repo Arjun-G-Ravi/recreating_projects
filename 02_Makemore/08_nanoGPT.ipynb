{
 "cells": [
  {
   "cell_type": "code",
   "execution_count": 1,
   "metadata": {},
   "outputs": [],
   "source": [
    "import torch\n",
    "import torch.nn as nn\n",
    "import numpy as np\n",
    "import matplotlib.pyplot as plt\n",
    "from torch.nn import functional as F"
   ]
  },
  {
   "cell_type": "code",
   "execution_count": 2,
   "metadata": {},
   "outputs": [],
   "source": [
    "block_size = 8\n",
    "batch_size = 4"
   ]
  },
  {
   "cell_type": "code",
   "execution_count": 3,
   "metadata": {},
   "outputs": [
    {
     "name": "stderr",
     "output_type": "stream",
     "text": [
      "/home/arjun/Desktop/AI_ENV/lib/python3.10/site-packages/tqdm/auto.py:21: TqdmWarning: IProgress not found. Please update jupyter and ipywidgets. See https://ipywidgets.readthedocs.io/en/stable/user_install.html\n",
      "  from .autonotebook import tqdm as notebook_tqdm\n"
     ]
    }
   ],
   "source": [
    "from datasets import load_dataset\n",
    "ds = load_dataset(\"Trelis/tiny-shakespeare\")"
   ]
  },
  {
   "cell_type": "code",
   "execution_count": 4,
   "metadata": {},
   "outputs": [],
   "source": [
    "ds_ = ds['train']['Text']"
   ]
  },
  {
   "cell_type": "code",
   "execution_count": 5,
   "metadata": {},
   "outputs": [
    {
     "data": {
      "text/plain": [
       "65"
      ]
     },
     "execution_count": 5,
     "metadata": {},
     "output_type": "execute_result"
    }
   ],
   "source": [
    "chars = sorted(set(''.join(ds_))) # vocabulory\n",
    "len(chars)"
   ]
  },
  {
   "cell_type": "code",
   "execution_count": null,
   "metadata": {},
   "outputs": [
    {
     "data": {
      "text/plain": [
       "([46, 43, 50, 50, 53], 'hello')"
      ]
     },
     "execution_count": 6,
     "metadata": {},
     "output_type": "execute_result"
    }
   ],
   "source": [
    "encoder_dict = {k:v for k,v in zip(chars, range(len(chars)))}\n",
    "decoder_dict = {v:k for k,v in zip(chars, range(len(chars)))}\n",
    "\n",
    "# Encoder, Decoder\n",
    "encode = lambda x: [encoder_dict[letter] for letter in x]\n",
    "decode = lambda x: ''.join([decoder_dict[letter] for letter in x])\n",
    "encode('hello'), decode([46, 43, 50, 50, 53])"
   ]
  },
  {
   "cell_type": "code",
   "execution_count": 7,
   "metadata": {},
   "outputs": [],
   "source": [
    "ds_all = '\\n'.join(ds_)\n",
    "ds_encoded = encode(ds_all)"
   ]
  },
  {
   "cell_type": "code",
   "execution_count": 8,
   "metadata": {},
   "outputs": [],
   "source": [
    "n = int(.9*len(ds_encoded))\n",
    "train_data = ds_encoded[:n]\n",
    "val_data = ds_encoded[n:]"
   ]
  },
  {
   "cell_type": "code",
   "execution_count": 39,
   "metadata": {},
   "outputs": [
    {
     "data": {
      "text/plain": [
       "(tensor([[59, 51, 54, 46, 39, 52, 58,  1],\n",
       "         [57, 58, 39, 63,  1, 58, 47, 50],\n",
       "         [58, 56, 47, 41, 47, 39, 52, 57],\n",
       "         [57, 43,  0, 21, 52,  1, 58, 46]]),\n",
       " tensor([[51, 54, 46, 39, 52, 58,  1, 44],\n",
       "         [58, 39, 63,  1, 58, 47, 50, 50],\n",
       "         [56, 47, 41, 47, 39, 52, 57,  2],\n",
       "         [43,  0, 21, 52,  1, 58, 46, 43]]))"
      ]
     },
     "execution_count": 39,
     "metadata": {},
     "output_type": "execute_result"
    }
   ],
   "source": [
    "def get_batch(data, block_size=block_size, batch_size=batch_size):\n",
    "    ix = torch.randint(len(data)-block_size, (batch_size,)) # these numbers are the start of each batch\n",
    "    xy = torch.tensor([[data[i] for i in range(ix[i],ix[i]+block_size+1)] for i in range(batch_size)])\n",
    "    xb = xy[:, :block_size]\n",
    "    yb = xy[:,1:]\n",
    "    # print(xb.shape, yb.shape) # (B x T)\n",
    "    return xb, yb\n",
    "\n",
    "get_batch(train_data)"
   ]
  },
  {
   "cell_type": "code",
   "execution_count": 95,
   "metadata": {},
   "outputs": [
    {
     "name": "stdout",
     "output_type": "stream",
     "text": [
      "\n",
      "gz$ULKqMkcHesTNDCfhYzsl$l3VkZcw?gNWcKRn$!MENSCIsMisfHDrd,amO!Ioj3\n",
      "EXEFjZwFNYFUkGXl!!o$o$lbjN,Nse'soY\n"
     ]
    }
   ],
   "source": [
    "class LLM(nn.Module):\n",
    "    def __init__(self, vocab_size):\n",
    "        super().__init__()\n",
    "        self.token_embedding_table = nn.Embedding(vocab_size, vocab_size)\n",
    "    \n",
    "    def forward(self, idx, targets=None):\n",
    "        logits = self.token_embedding_table(idx)\n",
    "        if not targets:\n",
    "            loss = None\n",
    "        else:\n",
    "            B, T, C = logits.shape\n",
    "            logits = logits.view(B*T, C)\n",
    "            targets = targets.view(B*T)\n",
    "            loss = F.cross_entropy(logits, targets)\n",
    "            # print(logits.shape, loss.shape)\n",
    "        return logits, loss\n",
    "    \n",
    "    def generate(self, idx, max_tokens=100):\n",
    "        for _ in range(max_tokens):\n",
    "            logits, loss = self(idx)\n",
    "            # logits is (B x T x C)\n",
    "            logits = logits[:, -1, :] # take only the last(latest) one in T component\n",
    "            probs = F.softmax(logits, dim=-1) # (B, C)\n",
    "            idx_next = torch.multinomial(probs, num_samples=1)\n",
    "            idx = torch.cat((idx, idx_next), dim=1)\n",
    "        return idx\n",
    "\n",
    "llm = LLM(len(chars))\n",
    "# llm.forward(get_batch(train_data)[0])\n",
    "# decode(llm.generate(get_batch(train_data)[0]))\n",
    "print(decode(llm.generate(idx = torch.zeros((1, 1), dtype=torch.long))[0].tolist()))\n"
   ]
  },
  {
   "cell_type": "code",
   "execution_count": 76,
   "metadata": {},
   "outputs": [
    {
     "ename": "TypeError",
     "evalue": "unhashable type: 'list'",
     "output_type": "error",
     "traceback": [
      "\u001b[0;31m---------------------------------------------------------------------------\u001b[0m",
      "\u001b[0;31mTypeError\u001b[0m                                 Traceback (most recent call last)",
      "Cell \u001b[0;32mIn[76], line 1\u001b[0m\n\u001b[0;32m----> 1\u001b[0m \u001b[43mdecode\u001b[49m\u001b[43m(\u001b[49m\u001b[43mllm\u001b[49m\u001b[38;5;241;43m.\u001b[39;49m\u001b[43mgenerate\u001b[49m\u001b[43m(\u001b[49m\u001b[43mget_batch\u001b[49m\u001b[43m(\u001b[49m\u001b[43mtrain_data\u001b[49m\u001b[43m)\u001b[49m\u001b[43m[\u001b[49m\u001b[38;5;241;43m0\u001b[39;49m\u001b[43m]\u001b[49m\u001b[43m)\u001b[49m\u001b[38;5;241;43m.\u001b[39;49m\u001b[43mtolist\u001b[49m\u001b[43m(\u001b[49m\u001b[43m)\u001b[49m\u001b[43m)\u001b[49m\n",
      "Cell \u001b[0;32mIn[6], line 5\u001b[0m, in \u001b[0;36m<lambda>\u001b[0;34m(x)\u001b[0m\n\u001b[1;32m      2\u001b[0m decoder_dict \u001b[38;5;241m=\u001b[39m {v:k \u001b[38;5;28;01mfor\u001b[39;00m k,v \u001b[38;5;129;01min\u001b[39;00m \u001b[38;5;28mzip\u001b[39m(chars, \u001b[38;5;28mrange\u001b[39m(\u001b[38;5;28mlen\u001b[39m(chars)))}\n\u001b[1;32m      4\u001b[0m encode \u001b[38;5;241m=\u001b[39m \u001b[38;5;28;01mlambda\u001b[39;00m x: [encoder_dict[letter] \u001b[38;5;28;01mfor\u001b[39;00m letter \u001b[38;5;129;01min\u001b[39;00m x]\n\u001b[0;32m----> 5\u001b[0m decode \u001b[38;5;241m=\u001b[39m \u001b[38;5;28;01mlambda\u001b[39;00m x: \u001b[38;5;124m'\u001b[39m\u001b[38;5;124m'\u001b[39m\u001b[38;5;241m.\u001b[39mjoin([decoder_dict[letter] \u001b[38;5;28;01mfor\u001b[39;00m letter \u001b[38;5;129;01min\u001b[39;00m x])\n\u001b[1;32m      6\u001b[0m encode(\u001b[38;5;124m'\u001b[39m\u001b[38;5;124mhello\u001b[39m\u001b[38;5;124m'\u001b[39m), decode([\u001b[38;5;241m46\u001b[39m, \u001b[38;5;241m43\u001b[39m, \u001b[38;5;241m50\u001b[39m, \u001b[38;5;241m50\u001b[39m, \u001b[38;5;241m53\u001b[39m])\n",
      "Cell \u001b[0;32mIn[6], line 5\u001b[0m, in \u001b[0;36m<listcomp>\u001b[0;34m(.0)\u001b[0m\n\u001b[1;32m      2\u001b[0m decoder_dict \u001b[38;5;241m=\u001b[39m {v:k \u001b[38;5;28;01mfor\u001b[39;00m k,v \u001b[38;5;129;01min\u001b[39;00m \u001b[38;5;28mzip\u001b[39m(chars, \u001b[38;5;28mrange\u001b[39m(\u001b[38;5;28mlen\u001b[39m(chars)))}\n\u001b[1;32m      4\u001b[0m encode \u001b[38;5;241m=\u001b[39m \u001b[38;5;28;01mlambda\u001b[39;00m x: [encoder_dict[letter] \u001b[38;5;28;01mfor\u001b[39;00m letter \u001b[38;5;129;01min\u001b[39;00m x]\n\u001b[0;32m----> 5\u001b[0m decode \u001b[38;5;241m=\u001b[39m \u001b[38;5;28;01mlambda\u001b[39;00m x: \u001b[38;5;124m'\u001b[39m\u001b[38;5;124m'\u001b[39m\u001b[38;5;241m.\u001b[39mjoin([\u001b[43mdecoder_dict\u001b[49m\u001b[43m[\u001b[49m\u001b[43mletter\u001b[49m\u001b[43m]\u001b[49m \u001b[38;5;28;01mfor\u001b[39;00m letter \u001b[38;5;129;01min\u001b[39;00m x])\n\u001b[1;32m      6\u001b[0m encode(\u001b[38;5;124m'\u001b[39m\u001b[38;5;124mhello\u001b[39m\u001b[38;5;124m'\u001b[39m), decode([\u001b[38;5;241m46\u001b[39m, \u001b[38;5;241m43\u001b[39m, \u001b[38;5;241m50\u001b[39m, \u001b[38;5;241m50\u001b[39m, \u001b[38;5;241m53\u001b[39m])\n",
      "\u001b[0;31mTypeError\u001b[0m: unhashable type: 'list'"
     ]
    }
   ],
   "source": [
    "decode(llm.generate(get_batch(train_data)[0]).tolist())"
   ]
  }
 ],
 "metadata": {
  "kernelspec": {
   "display_name": "AI_ENV",
   "language": "python",
   "name": "python3"
  },
  "language_info": {
   "codemirror_mode": {
    "name": "ipython",
    "version": 3
   },
   "file_extension": ".py",
   "mimetype": "text/x-python",
   "name": "python",
   "nbconvert_exporter": "python",
   "pygments_lexer": "ipython3",
   "version": "3.10.12"
  }
 },
 "nbformat": 4,
 "nbformat_minor": 2
}
