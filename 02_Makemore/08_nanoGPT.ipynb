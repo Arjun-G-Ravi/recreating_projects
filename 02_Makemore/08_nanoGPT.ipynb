{
 "cells": [
  {
   "cell_type": "code",
   "execution_count": 2,
   "metadata": {},
   "outputs": [],
   "source": [
    "import torch\n",
    "import torch.nn as nn\n",
    "import numpy as np\n",
    "import matplotlib.pyplot as plt\n",
    "from torch.nn import functional as F"
   ]
  },
  {
   "cell_type": "code",
   "execution_count": 3,
   "metadata": {},
   "outputs": [],
   "source": [
    "batch_size = 64 # B\n",
    "block_size = 8 # T\n",
    "# C = 65 -> vocab length\n",
    "head_size = 16\n",
    "steps = 5000\n",
    "device = 'cuda' if torch.cuda.is_available() else 'cpu'\n",
    "learning_rate = 1e-3\n",
    "eval_iters = 200\n",
    "n_embd = 64\n",
    "n_head = 4\n",
    "n_layer = 4\n",
    "dropout_percent = 0.0"
   ]
  },
  {
   "cell_type": "code",
   "execution_count": 4,
   "metadata": {},
   "outputs": [
    {
     "name": "stderr",
     "output_type": "stream",
     "text": [
      "/home/arjun/Desktop/AI_ENV/lib/python3.10/site-packages/tqdm/auto.py:21: TqdmWarning: IProgress not found. Please update jupyter and ipywidgets. See https://ipywidgets.readthedocs.io/en/stable/user_install.html\n",
      "  from .autonotebook import tqdm as notebook_tqdm\n"
     ]
    }
   ],
   "source": [
    "from datasets import load_dataset\n",
    "ds = load_dataset(\"Trelis/tiny-shakespeare\")"
   ]
  },
  {
   "cell_type": "code",
   "execution_count": 5,
   "metadata": {},
   "outputs": [],
   "source": [
    "ds_ = ds['train']['Text']"
   ]
  },
  {
   "cell_type": "code",
   "execution_count": 6,
   "metadata": {},
   "outputs": [
    {
     "data": {
      "text/plain": [
       "65"
      ]
     },
     "execution_count": 6,
     "metadata": {},
     "output_type": "execute_result"
    }
   ],
   "source": [
    "chars = sorted(set(''.join(ds_))) # vocabulory\n",
    "len(chars)"
   ]
  },
  {
   "cell_type": "code",
   "execution_count": 7,
   "metadata": {},
   "outputs": [
    {
     "data": {
      "text/plain": [
       "([46, 43, 50, 50, 53], 'hello')"
      ]
     },
     "execution_count": 7,
     "metadata": {},
     "output_type": "execute_result"
    }
   ],
   "source": [
    "encoder_dict = {k:v for k,v in zip(chars, range(len(chars)))}\n",
    "decoder_dict = {v:k for k,v in zip(chars, range(len(chars)))}\n",
    "\n",
    "# Encoder, Decoder\n",
    "encode = lambda x: [encoder_dict[letter] for letter in x]\n",
    "decode = lambda x: ''.join([decoder_dict[letter] for letter in x])\n",
    "encode('hello'), decode([46, 43, 50, 50, 53])"
   ]
  },
  {
   "cell_type": "code",
   "execution_count": 8,
   "metadata": {},
   "outputs": [],
   "source": [
    "ds_all = '\\n'.join(ds_)\n",
    "ds_encoded = encode(ds_all)"
   ]
  },
  {
   "cell_type": "code",
   "execution_count": 9,
   "metadata": {},
   "outputs": [],
   "source": [
    "n = int(.9*len(ds_encoded))\n",
    "train_data = ds_encoded[:n]\n",
    "val_data = ds_encoded[n:]"
   ]
  },
  {
   "cell_type": "code",
   "execution_count": 10,
   "metadata": {},
   "outputs": [
    {
     "data": {
      "text/plain": [
       "(tensor([[51, 39, 49, 43,  1, 35, 47, 50],\n",
       "         [42, 43, 57,  1, 39, 50, 50,  1],\n",
       "         [43, 58,  1, 39, 40, 53, 39, 56],\n",
       "         [21,  1, 51, 59, 57, 58,  1, 46],\n",
       "         [ 1, 21,  1, 61, 47, 50, 50,  1],\n",
       "         [50, 47, 52, 45,  1, 47, 52,  1],\n",
       "         [43, 56, 60, 43, 57,  1, 51, 63],\n",
       "         [51, 53, 56, 43,  1, 53, 44,  1],\n",
       "         [43,  1, 52, 53,  1, 51, 39, 52],\n",
       "         [45, 46, 39, 51,  1, 58, 53,  1],\n",
       "         [54, 39, 58, 47, 43, 52, 58,  8],\n",
       "         [17, 26, 15, 17, 10,  0, 27, 52],\n",
       "         [43, 56, 43, 44, 53, 56, 43,  1],\n",
       "         [47, 57,  1, 42, 39, 51, 52, 39],\n",
       "         [14, 17, 26, 34, 27, 24, 21, 27],\n",
       "         [46, 43,  1, 54, 39, 56, 50, 47],\n",
       "         [ 1, 51, 43,  1, 44, 39, 58, 46],\n",
       "         [ 1, 45, 47, 60, 43, 52,  1, 41],\n",
       "         [43, 43, 54,  1, 39, 52, 42,  1],\n",
       "         [46, 43,  1, 42, 43, 39, 58, 46],\n",
       "         [57, 46, 43,  7,  7,  0,  0, 30],\n",
       "         [56, 43,  1, 40, 59, 56, 52, 57],\n",
       "         [42,  1, 15, 39, 51, 47, 50, 50],\n",
       "         [56,  1, 40, 63,  5, 58,  6,  1],\n",
       "         [ 0, 25, 63,  1, 50, 53, 56, 42],\n",
       "         [ 1, 43, 39, 57, 63,  1, 58, 39],\n",
       "         [56, 63,  1, 45, 53, 53, 42,  1],\n",
       "         [ 1, 39, 52, 42,  1, 63, 53, 59],\n",
       "         [44,  1, 41, 47, 60, 47, 50,  1],\n",
       "         [57, 46, 39, 50, 50,  1, 51, 47],\n",
       "         [ 1, 63, 53, 59, 56,  1, 57, 53],\n",
       "         [ 1, 57, 41, 39, 58, 46, 43,  1],\n",
       "         [20, 13, 30, 16, 10,  0, 26, 53],\n",
       "         [61,  8,  0,  0, 14, 17, 26, 34],\n",
       "         [53, 44,  1, 46, 43, 39, 60, 43],\n",
       "         [59, 54, 54, 50, 47, 39, 52, 58],\n",
       "         [ 1, 57, 53,  1, 42, 53, 58, 46],\n",
       "         [47, 52, 46, 43, 56, 47, 58, 39],\n",
       "         [46, 58, 52, 43, 57, 57,  1, 53],\n",
       "         [56, 56, 47, 53, 52,  2,  1, 53],\n",
       "         [ 1, 53, 44,  1, 46, 47, 57,  1],\n",
       "         [47, 55, 59, 47, 42,  1, 58, 46],\n",
       "         [57,  1, 45, 43, 52, 43, 56, 39],\n",
       "         [21,  1, 41, 39, 52,  1, 42, 53],\n",
       "         [46, 53, 59,  1, 46, 39, 57, 58],\n",
       "         [46, 53, 57, 43,  1, 59, 52, 44],\n",
       "         [58,  1, 58, 46, 43,  1, 63, 53],\n",
       "         [39, 47, 52, 11,  0, 32, 53,  1],\n",
       "         [15, 37, 10,  0, 32, 46, 43, 56],\n",
       "         [63, 43, 58,  1, 52, 53, 58,  1],\n",
       "         [17, 26, 21, 33, 31, 10,  0, 28],\n",
       "         [ 1, 57, 61, 43, 39, 56,  1, 58],\n",
       "         [21, 17, 32, 10,  0, 21, 57,  1],\n",
       "         [43,  8,  0,  0, 14, 21, 31, 20],\n",
       "         [56, 43, 52, 42, 43, 56, 11,  1],\n",
       "         [56, 51, 53, 59, 56,  1, 58, 46],\n",
       "         [11,  1, 58, 46, 43, 63,  1, 46],\n",
       "         [43,  1, 41, 50, 47, 54,  1, 63],\n",
       "         [ 0, 37, 43, 57,  6,  1, 58, 56],\n",
       "         [42, 53, 45, 45,  5, 42,  1, 61],\n",
       "         [57, 41, 53, 60, 43, 56,  6,  1],\n",
       "         [58, 46, 43, 56, 43,  1, 57, 46],\n",
       "         [ 1, 51, 53, 60, 43,  1, 58, 46],\n",
       "         [32, 59, 56, 52, 57,  1, 58, 53]]),\n",
       " tensor([[39, 49, 43,  1, 35, 47, 50, 50],\n",
       "         [43, 57,  1, 39, 50, 50,  1, 46],\n",
       "         [58,  1, 39, 40, 53, 39, 56, 42],\n",
       "         [ 1, 51, 59, 57, 58,  1, 46, 39],\n",
       "         [21,  1, 61, 47, 50, 50,  1, 57],\n",
       "         [47, 52, 45,  1, 47, 52,  1, 58],\n",
       "         [56, 60, 43, 57,  1, 51, 63,  1],\n",
       "         [53, 56, 43,  1, 53, 44,  1, 57],\n",
       "         [ 1, 52, 53,  1, 51, 39, 52,  1],\n",
       "         [46, 39, 51,  1, 58, 53,  1, 61],\n",
       "         [39, 58, 47, 43, 52, 58,  8,  0],\n",
       "         [26, 15, 17, 10,  0, 27, 52,  1],\n",
       "         [56, 43, 44, 53, 56, 43,  1, 54],\n",
       "         [57,  1, 42, 39, 51, 52, 39, 40],\n",
       "         [17, 26, 34, 27, 24, 21, 27, 10],\n",
       "         [43,  1, 54, 39, 56, 50, 47, 39],\n",
       "         [51, 43,  1, 44, 39, 58, 46, 43],\n",
       "         [45, 47, 60, 43, 52,  1, 41, 53],\n",
       "         [43, 54,  1, 39, 52, 42,  1, 57],\n",
       "         [43,  1, 42, 43, 39, 58, 46,  1],\n",
       "         [46, 43,  7,  7,  0,  0, 30, 27],\n",
       "         [43,  1, 40, 59, 56, 52, 57,  1],\n",
       "         [ 1, 15, 39, 51, 47, 50, 50, 53],\n",
       "         [ 1, 40, 63,  5, 58,  6,  1, 40],\n",
       "         [25, 63,  1, 50, 53, 56, 42,  6],\n",
       "         [43, 39, 57, 63,  1, 58, 39, 57],\n",
       "         [63,  1, 45, 53, 53, 42,  1, 40],\n",
       "         [39, 52, 42,  1, 63, 53, 59,  1],\n",
       "         [ 1, 41, 47, 60, 47, 50,  1, 61],\n",
       "         [46, 39, 50, 50,  1, 51, 47, 57],\n",
       "         [63, 53, 59, 56,  1, 57, 53, 56],\n",
       "         [57, 41, 39, 58, 46, 43,  1, 58],\n",
       "         [13, 30, 16, 10,  0, 26, 53, 56],\n",
       "         [ 8,  0,  0, 14, 17, 26, 34, 27],\n",
       "         [44,  1, 46, 43, 39, 60, 43, 52],\n",
       "         [54, 54, 50, 47, 39, 52, 58, 57],\n",
       "         [57, 53,  1, 42, 53, 58, 46,  1],\n",
       "         [52, 46, 43, 56, 47, 58, 39, 52],\n",
       "         [58, 52, 43, 57, 57,  1, 53, 44],\n",
       "         [56, 47, 53, 52,  2,  1, 53, 59],\n",
       "         [53, 44,  1, 46, 47, 57,  1, 44],\n",
       "         [55, 59, 47, 42,  1, 58, 46, 47],\n",
       "         [ 1, 45, 43, 52, 43, 56, 39, 50],\n",
       "         [ 1, 41, 39, 52,  1, 42, 53,  1],\n",
       "         [53, 59,  1, 46, 39, 57, 58,  1],\n",
       "         [53, 57, 43,  1, 59, 52, 44, 50],\n",
       "         [ 1, 58, 46, 43,  1, 63, 53, 59],\n",
       "         [47, 52, 11,  0, 32, 53,  1, 57],\n",
       "         [37, 10,  0, 32, 46, 43, 56, 43],\n",
       "         [43, 58,  1, 52, 53, 58,  1, 57],\n",
       "         [26, 21, 33, 31, 10,  0, 28, 59],\n",
       "         [57, 61, 43, 39, 56,  1, 58, 53],\n",
       "         [17, 32, 10,  0, 21, 57,  1, 58],\n",
       "         [ 8,  0,  0, 14, 21, 31, 20, 27],\n",
       "         [43, 52, 42, 43, 56, 11,  1, 57],\n",
       "         [51, 53, 59, 56,  1, 58, 46, 39],\n",
       "         [ 1, 58, 46, 43, 63,  1, 46, 39],\n",
       "         [ 1, 41, 50, 47, 54,  1, 63, 43],\n",
       "         [37, 43, 57,  6,  1, 58, 56, 59],\n",
       "         [53, 45, 45,  5, 42,  1, 61, 47],\n",
       "         [41, 53, 60, 43, 56,  6,  1, 57],\n",
       "         [46, 43, 56, 43,  1, 57, 46, 39],\n",
       "         [51, 53, 60, 43,  1, 58, 46, 43],\n",
       "         [59, 56, 52, 57,  1, 58, 53,  1]]))"
      ]
     },
     "execution_count": 10,
     "metadata": {},
     "output_type": "execute_result"
    }
   ],
   "source": [
    "def get_batch(data, block_size=block_size, batch_size=batch_size):\n",
    "    # print(len(data))\n",
    "    ix = torch.randint(len(data)-block_size, (batch_size,)) # these numbers are the start of each batch\n",
    "    xy = torch.tensor([[data[i] for i in range(ix[i],ix[i]+block_size+1)] for i in range(batch_size)])\n",
    "    xb = xy[:, :block_size]\n",
    "    yb = xy[:,1:]\n",
    "    # print(xb.shape, yb.shape) # (B x T)\n",
    "    return xb, yb\n",
    "\n",
    "get_batch(train_data)"
   ]
  },
  {
   "cell_type": "code",
   "execution_count": 11,
   "metadata": {},
   "outputs": [],
   "source": [
    "# write code to estimate loss with train and test dataset"
   ]
  },
  {
   "cell_type": "code",
   "execution_count": 12,
   "metadata": {},
   "outputs": [],
   "source": [
    "class Head(nn.Module):\n",
    "    '''one head in self attention'''\n",
    "    def __init__(self):\n",
    "        super().__init__()\n",
    "        self.key = nn.Linear(n_embd, int(n_embd/n_head), bias=False)\n",
    "        self.query = nn.Linear(n_embd, int(n_embd/n_head), bias=False)\n",
    "        self.value = nn.Linear(n_embd, int(n_embd/n_head), bias=False)\n",
    "        self.register_buffer('tril', torch.tril(torch.ones(block_size, block_size))) # registers are saved along with the model, but are never updated during training. They dont count as model parameters\n",
    "        self.dropout = nn.Dropout(dropout_percent)\n",
    "    \n",
    "    def forward(self, x):\n",
    "        B ,T, C = x.shape\n",
    "        k = self.key(x)\n",
    "        q = self.query(x)\n",
    "        v = self.value(x)\n",
    "\n",
    "        # compute attention score\n",
    "        wei = q @ k.transpose(-2, -1) / C**0.5\n",
    "        wei = wei.masked_fill(self.tril[:T, :T] == 0, float('-inf')) # mask future tokens\n",
    "        wei = F.softmax(wei, dim=-1)\n",
    "        wei = self.dropout(wei)\n",
    "        \n",
    "        return wei@v"
   ]
  },
  {
   "cell_type": "code",
   "execution_count": 15,
   "metadata": {},
   "outputs": [],
   "source": [
    "class MultiHeadAttention(nn.Module):\n",
    "    '''multiple attention heads in parallel'''\n",
    "\n",
    "    def __init__(self, num_heads):\n",
    "        super().__init__()\n",
    "        self.heads = nn.ModuleList([Head(int(n_embd/n_head)) for _ in range(num_heads)])\n",
    "        self.proj = nn.Linear(n_embd, n_embd) # to apply a linear transformation to concat heads\n",
    "        self.dropout = nn.Dropout(dropout_percent)\n",
    "    \n",
    "    def forward(self, x):\n",
    "        out = torch.cat([h(x) for h in self.heads], dim=-1)\n",
    "        out = self.dropout(self.proj(out))"
   ]
  },
  {
   "cell_type": "code",
   "execution_count": 16,
   "metadata": {},
   "outputs": [],
   "source": [
    "class FeedForward(nn.Module):\n",
    "    \n",
    "    def __init__(self, n_embd):\n",
    "        super().__init__()\n",
    "        self.net = nn.Sequential(\n",
    "            nn.Linear(n_embd, 4*n_embd),\n",
    "            nn.ReLU(),\n",
    "            nn.Linear(4*n_embd, n_embd),\n",
    "            nn.Dropout(dropout_percent),\n",
    "        )\n",
    "\n",
    "    def forward(self, x):\n",
    "        return self.net(x)"
   ]
  },
  {
   "cell_type": "code",
   "execution_count": null,
   "metadata": {},
   "outputs": [],
   "source": [
    "class TransformerBlock(nn.Module):\n",
    "    def __init__(self, n_embd, n_head):\n",
    "        "
   ]
  },
  {
   "cell_type": "code",
   "execution_count": null,
   "metadata": {},
   "outputs": [],
   "source": []
  },
  {
   "cell_type": "code",
   "execution_count": null,
   "metadata": {},
   "outputs": [],
   "source": []
  },
  {
   "cell_type": "code",
   "execution_count": null,
   "metadata": {},
   "outputs": [],
   "source": []
  },
  {
   "cell_type": "code",
   "execution_count": null,
   "metadata": {},
   "outputs": [],
   "source": []
  },
  {
   "cell_type": "code",
   "execution_count": 13,
   "metadata": {},
   "outputs": [
    {
     "name": "stdout",
     "output_type": "stream",
     "text": [
      "\n",
      "iVivcMsXLlk HQsqrUSPfbNydYys?EuX xzE!rOWrdTid$-wwaOn?QtqxRkPBzkyWusZDo&YTNSx'GIbo-ii!GF:IGI$u,F,,gzo\n"
     ]
    }
   ],
   "source": [
    "class LLM(nn.Module):\n",
    "    def __init__(self, vocab_size):\n",
    "        super().__init__()\n",
    "        self.token_embedding_table = nn.Embedding(vocab_size, vocab_size)\n",
    "    \n",
    "    def forward(self, idx, targets=None):\n",
    "        logits = self.token_embedding_table(idx)\n",
    "        if targets == None:\n",
    "            loss = None\n",
    "        else:\n",
    "            B, T, C = logits.shape\n",
    "            # print(B, T, C)\n",
    "            logits = logits.view(B*T, C)\n",
    "            # print(targets.shape, B*T)\n",
    "            # print(targets.dtype)\n",
    "            targets = targets.float().view(B*T).long()\n",
    "            # print(targets.shape)\n",
    "            # print(targets)\n",
    "            loss = F.cross_entropy(logits, targets)\n",
    "            # print(logits.shape, loss.shape)\n",
    "        return logits, loss\n",
    "    \n",
    "    def generate(self, idx, max_tokens=100):\n",
    "        for _ in range(max_tokens):\n",
    "            logits, loss = self(idx)\n",
    "            # logits is (B x T x C)\n",
    "            logits = logits[:, -1, :] # take only the last(latest) one in T component\n",
    "            probs = F.softmax(logits, dim=-1) # (B, C)\n",
    "            idx_next = torch.multinomial(probs, num_samples=1)\n",
    "            idx = torch.cat((idx, idx_next), dim=1)\n",
    "        return idx\n",
    "\n",
    "llm = LLM(len(chars))\n",
    "# llm.forward(get_batch(train_data)[0])\n",
    "# decode(llm.generate(get_batch(train_data)[0]))\n",
    "print(decode(llm.generate(idx = torch.zeros((1, 1), dtype=torch.long))[0].tolist()))\n"
   ]
  },
  {
   "cell_type": "code",
   "execution_count": null,
   "metadata": {},
   "outputs": [],
   "source": []
  },
  {
   "cell_type": "code",
   "execution_count": 14,
   "metadata": {},
   "outputs": [
    {
     "name": "stdout",
     "output_type": "stream",
     "text": [
      "3.677424192428589\n"
     ]
    }
   ],
   "source": [
    "optimizer = torch.optim.AdamW(llm.parameters(), lr=1e-3)\n",
    "for steps in range(1000): # increase number of steps for good results...\n",
    "\n",
    "    # sample a batch of data\n",
    "    xb, yb = get_batch(train_data)\n",
    "\n",
    "    # evaluate the loss\n",
    "    logits, loss = llm(xb, yb)\n",
    "    optimizer.zero_grad(set_to_none=True)\n",
    "    loss.backward()\n",
    "    optimizer.step()\n",
    "    # if steps % 100 == 0: print(loss.item())\n",
    "print(loss.item())"
   ]
  },
  {
   "cell_type": "code",
   "execution_count": null,
   "metadata": {},
   "outputs": [],
   "source": []
  },
  {
   "cell_type": "code",
   "execution_count": null,
   "metadata": {},
   "outputs": [],
   "source": []
  },
  {
   "cell_type": "code",
   "execution_count": null,
   "metadata": {},
   "outputs": [],
   "source": []
  }
 ],
 "metadata": {
  "kernelspec": {
   "display_name": "AI_ENV",
   "language": "python",
   "name": "python3"
  },
  "language_info": {
   "codemirror_mode": {
    "name": "ipython",
    "version": 3
   },
   "file_extension": ".py",
   "mimetype": "text/x-python",
   "name": "python",
   "nbconvert_exporter": "python",
   "pygments_lexer": "ipython3",
   "version": "3.10.12"
  }
 },
 "nbformat": 4,
 "nbformat_minor": 2
}
