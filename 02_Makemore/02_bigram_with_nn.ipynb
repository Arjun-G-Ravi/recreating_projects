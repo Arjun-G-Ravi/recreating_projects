{
 "cells": [
  {
   "cell_type": "markdown",
   "metadata": {},
   "source": [
    "# Bigram Model with NN"
   ]
  },
  {
   "cell_type": "code",
   "execution_count": 1,
   "metadata": {},
   "outputs": [],
   "source": [
    "import torch\n",
    "import seaborn as sns\n",
    "import matplotlib.pyplot as plt\n",
    "from torch.nn.functional import one_hot"
   ]
  },
  {
   "cell_type": "markdown",
   "metadata": {},
   "source": [
    "# Data"
   ]
  },
  {
   "cell_type": "code",
   "execution_count": 2,
   "metadata": {},
   "outputs": [
    {
     "data": {
      "text/plain": [
       "['emma',\n",
       " 'olivia',\n",
       " 'ava',\n",
       " 'isabella',\n",
       " 'sophia',\n",
       " 'charlotte',\n",
       " 'mia',\n",
       " 'amelia',\n",
       " 'harper',\n",
       " 'evelyn']"
      ]
     },
     "execution_count": 2,
     "metadata": {},
     "output_type": "execute_result"
    }
   ],
   "source": [
    "with open('names.txt') as f:\n",
    "    data = f.read().split('\\n')\n",
    "data[:10]"
   ]
  },
  {
   "cell_type": "code",
   "execution_count": 3,
   "metadata": {},
   "outputs": [
    {
     "name": "stdout",
     "output_type": "stream",
     "text": [
      "{'.': 0, 'a': 1, 'b': 2, 'c': 3, 'd': 4, 'e': 5, 'f': 6, 'g': 7, 'h': 8, 'i': 9, 'j': 10, 'k': 11, 'l': 12, 'm': 13, 'n': 14, 'o': 15, 'p': 16, 'q': 17, 'r': 18, 's': 19, 't': 20, 'u': 21, 'v': 22, 'w': 23, 'x': 24, 'y': 25, 'z': 26}\n"
     ]
    }
   ],
   "source": [
    "characters = list(set([i for i in ''.join(data)]))\n",
    "characters.insert(1, '.')\n",
    "hmap = {}\n",
    "for n in range(0,27):\n",
    "    hmap[sorted(characters)[n]] = n\n",
    "print(hmap)"
   ]
  },
  {
   "cell_type": "code",
   "execution_count": 4,
   "metadata": {},
   "outputs": [
    {
     "data": {
      "text/plain": [
       "(torch.Size([228146, 27]), torch.Size([228146]))"
      ]
     },
     "execution_count": 4,
     "metadata": {},
     "output_type": "execute_result"
    }
   ],
   "source": [
    "# Create dataset\n",
    "X, y = [],[]\n",
    "\n",
    "for name in data:\n",
    "    name = '.' + name + '.'\n",
    "    for ch1, ch2 in zip(name, name[1:]):\n",
    "        X.append(hmap[ch1])\n",
    "        y.append(hmap[ch2])\n",
    "    # break\n",
    "\n",
    "X = one_hot(torch.tensor(X), num_classes=27).float()\n",
    "y = torch.tensor(y).int()\n",
    "X.shape, y.shape"
   ]
  },
  {
   "cell_type": "markdown",
   "metadata": {},
   "source": [
    "# Model"
   ]
  },
  {
   "cell_type": "code",
   "execution_count": 5,
   "metadata": {},
   "outputs": [
    {
     "data": {
      "text/plain": [
       "tensor([[0.0304, 0.0378, 0.0221,  ..., 0.0694, 0.0070, 0.0258],\n",
       "        [0.0057, 0.0741, 0.0158,  ..., 0.0146, 0.0288, 0.0456],\n",
       "        [0.0252, 0.0454, 0.0151,  ..., 0.0687, 0.0098, 0.0449],\n",
       "        ...,\n",
       "        [0.0151, 0.1854, 0.0145,  ..., 0.2090, 0.0120, 0.0304],\n",
       "        [0.0382, 0.0196, 0.0634,  ..., 0.0104, 0.0141, 0.0374],\n",
       "        [0.0188, 0.0067, 0.0024,  ..., 0.0084, 0.0164, 0.2399]],\n",
       "       grad_fn=<DivBackward0>)"
      ]
     },
     "execution_count": 5,
     "metadata": {},
     "output_type": "execute_result"
    }
   ],
   "source": [
    "# Test\n",
    "W = torch.randn((27,27), requires_grad=True)\n",
    "logits = X @ W # these are log-counts\n",
    "cts = logits.exp()\n",
    "probs = cts/cts.sum(1, keepdim=True)\n",
    "probs"
   ]
  },
  {
   "cell_type": "code",
   "execution_count": 6,
   "metadata": {},
   "outputs": [
    {
     "data": {
      "text/plain": [
       "tensor(1., grad_fn=<SumBackward0>)"
      ]
     },
     "execution_count": 6,
     "metadata": {},
     "output_type": "execute_result"
    }
   ],
   "source": [
    "probs[0].sum() # Sum along a row should be 1"
   ]
  },
  {
   "cell_type": "markdown",
   "metadata": {},
   "source": [
    "This would have given the output, if W was correct. So, we optimise W\n",
    "\n",
    "# Training"
   ]
  },
  {
   "cell_type": "code",
   "execution_count": 38,
   "metadata": {},
   "outputs": [],
   "source": [
    "num_epochs = 2000\n",
    "lr = 50\n",
    "n = len(X)"
   ]
  },
  {
   "cell_type": "code",
   "execution_count": 39,
   "metadata": {},
   "outputs": [
    {
     "name": "stdout",
     "output_type": "stream",
     "text": [
      "Epoch 0: 2.50633\n",
      "Epoch 100: 2.48045\n",
      "Epoch 200: 2.48043\n",
      "Epoch 300: 2.48042\n",
      "Epoch 400: 2.48041\n",
      "Epoch 500: 2.48041\n",
      "Epoch 600: 2.48041\n",
      "Epoch 700: 2.48040\n",
      "Epoch 800: 2.48040\n",
      "Epoch 900: 2.48040\n",
      "Epoch 1000: 2.48040\n",
      "Epoch 1100: 2.48040\n",
      "Epoch 1200: 2.48040\n",
      "Epoch 1300: 2.48040\n",
      "Epoch 1400: 2.48040\n",
      "Epoch 1500: 2.48040\n",
      "Epoch 1600: 2.48040\n",
      "Epoch 1700: 2.48040\n",
      "Epoch 1800: 2.48040\n",
      "Epoch 1900: 2.48040\n"
     ]
    }
   ],
   "source": [
    "for i in range(num_epochs):\n",
    "    \n",
    "    # forward pass\n",
    "    logits = X @ W \n",
    "    cts = logits.exp()\n",
    "    probs = cts/cts.sum(1, keepdim=True)\n",
    "\n",
    "    # loss function\n",
    "    loss = -probs[torch.arange(n), y].log().mean() + .01*(W**2).mean() # Last term is for regularisation\n",
    "    if not i%100:\n",
    "        print(f'Epoch {i}: {loss.item()}')\n",
    "    \n",
    "    \n",
    "    # backward pass\n",
    "    W.grad = None\n",
    "    loss.backward()\n",
    "    W.data += lr * -W.grad\n"
   ]
  },
  {
   "cell_type": "markdown",
   "metadata": {},
   "source": [
    "# Inference"
   ]
  },
  {
   "cell_type": "code",
   "execution_count": 9,
   "metadata": {},
   "outputs": [
    {
     "name": "stdout",
     "output_type": "stream",
     "text": [
      "{0: '.', 1: 'a', 2: 'b', 3: 'c', 4: 'd', 5: 'e', 6: 'f', 7: 'g', 8: 'h', 9: 'i', 10: 'j', 11: 'k', 12: 'l', 13: 'm', 14: 'n', 15: 'o', 16: 'p', 17: 'q', 18: 'r', 19: 's', 20: 't', 21: 'u', 22: 'v', 23: 'w', 24: 'x', 25: 'y', 26: 'z'}\n"
     ]
    }
   ],
   "source": [
    "rev_hmap = {value:key for key,value in hmap.items()}\n",
    "print(rev_hmap)"
   ]
  },
  {
   "cell_type": "code",
   "execution_count": 40,
   "metadata": {},
   "outputs": [
    {
     "name": "stdout",
     "output_type": "stream",
     "text": [
      "fiana.\n",
      "shanali.\n",
      "damah.\n",
      "jaynn.\n",
      "kanaha.\n",
      "ovil.\n",
      "janel.\n",
      "chi.\n",
      "sonai.\n",
      "a.\n"
     ]
    }
   ],
   "source": [
    "for i in range(10):\n",
    "\n",
    "    next_index = torch.tensor(0)\n",
    "    l = []\n",
    "    while True:\n",
    "        x = one_hot(next_index,num_classes=27,).float().reshape(1,27)\n",
    "        logits = x @ W \n",
    "        cts = logits.exp()\n",
    "        probs = cts/cts.sum(1, keepdim=True)\n",
    "        # print(probs)\n",
    "        # next_index = torch.argmax(probs) # This chooses the most likely one\n",
    "        next_index = torch.multinomial(probs,num_samples=1, replacement=True) # This chooses according to probability\n",
    "        l.append(rev_hmap[next_index.item()])\n",
    "        \n",
    "        if next_index == 0:\n",
    "            break\n",
    "\n",
    "    print(''.join(l))  "
   ]
  }
 ],
 "metadata": {
  "kernelspec": {
   "display_name": "AI_ENV",
   "language": "python",
   "name": "python3"
  },
  "language_info": {
   "codemirror_mode": {
    "name": "ipython",
    "version": 3
   },
   "file_extension": ".py",
   "mimetype": "text/x-python",
   "name": "python",
   "nbconvert_exporter": "python",
   "pygments_lexer": "ipython3",
   "version": "3.10.12"
  }
 },
 "nbformat": 4,
 "nbformat_minor": 2
}
